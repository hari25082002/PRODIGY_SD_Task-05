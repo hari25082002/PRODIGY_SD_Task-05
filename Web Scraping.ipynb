{
 "cells": [
  {
   "cell_type": "markdown",
   "id": "d3258411",
   "metadata": {},
   "source": [
    "#                                   Task -05 Web Scraping\n"
   ]
  },
  {
   "cell_type": "code",
   "execution_count": null,
   "id": "8f733457",
   "metadata": {},
   "outputs": [],
   "source": [
    "import requests\n",
    "from bs4 import BeautifulSoup\n",
    "import csv\n",
    "\n",
    "def scrape_product_info(product_url):\n",
    "    response = requests.get(product_url)\n",
    "    soup = BeautifulSoup(response.content, 'html.parser')\n",
    "\n",
    "    # Initialize variables to store product information\n",
    "    product_info_list = []\n",
    "\n",
    "    product_elements = soup.find_all('div', {'class': '_1AtVbE'})\n",
    "    for product_elem in product_elements:\n",
    "        product_name_elem = product_elem.find('a', {'class': 'IRpwTa'})\n",
    "        product_price_elem = product_elem.find('div', {'class': '_30jeq3'})\n",
    "\n",
    "        if product_name_elem and product_price_elem:\n",
    "            product_name = product_name_elem.text.strip()\n",
    "            product_price = product_price_elem.text.strip()\n",
    "            product_info_list.append({'product_name': product_name, 'product_price': product_price})\n",
    "\n",
    "    return product_info_list\n",
    "\n",
    "def main():\n",
    "    product_url = 'https://www.flipkart.com/clothing-and-accessories/topwear/pr?sid=clo,ash&p[]=facets.ideal_for%255B%255D%3DMen&p[]=facets.ideal_for%255B%255D%3Dmen&otracker=categorytree&fm=neo%2Fmerchandising&iid=M_cc9ddba7-b295-4373-aebc-0ecd66af5c65_1_372UD5BXDFYS_MC.6XNZG1FYFBZT&otracker=hp_rich_navigation_1_1.navigationCard.RICH_NAVIGATION_Fashion~Men%2527s%2BTop%2BWear_6XNZG1FYFBZT&otracker1=hp_rich_navigation_PINNED_neo%2Fmerchandising_NA_NAV_EXPANDABLE_navigationCard_cc_1_L1_view-all&cid=6XNZG1FYFBZT'\n",
    "    product_info_list = scrape_product_info(product_url)\n",
    "\n",
    "    with open('flipkart_topwear_info.csv', 'w', newline='', encoding='utf-8') as f:\n",
    "        writer = csv.writer(f)\n",
    "        writer.writerow(['Product Name', 'Product Price'])\n",
    "        for product_info in product_info_list:\n",
    "            writer.writerow([product_info['product_name'], product_info['product_price']])\n",
    "\n",
    "if __name__ == '__main__':\n",
    "    main()\n"
   ]
  },
  {
   "cell_type": "code",
   "execution_count": null,
   "id": "74f9c1cf",
   "metadata": {},
   "outputs": [],
   "source": []
  },
  {
   "cell_type": "code",
   "execution_count": null,
   "id": "488744df",
   "metadata": {},
   "outputs": [],
   "source": []
  },
  {
   "cell_type": "code",
   "execution_count": null,
   "id": "8e309660",
   "metadata": {},
   "outputs": [],
   "source": []
  },
  {
   "cell_type": "code",
   "execution_count": null,
   "id": "ae2cc920",
   "metadata": {},
   "outputs": [],
   "source": []
  }
 ],
 "metadata": {
  "kernelspec": {
   "display_name": "Python 3 (ipykernel)",
   "language": "python",
   "name": "python3"
  },
  "language_info": {
   "codemirror_mode": {
    "name": "ipython",
    "version": 3
   },
   "file_extension": ".py",
   "mimetype": "text/x-python",
   "name": "python",
   "nbconvert_exporter": "python",
   "pygments_lexer": "ipython3",
   "version": "3.10.11"
  }
 },
 "nbformat": 4,
 "nbformat_minor": 5
}
